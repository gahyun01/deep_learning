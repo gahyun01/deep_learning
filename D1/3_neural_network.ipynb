{
 "cells": [
  {
   "cell_type": "markdown",
   "metadata": {},
   "source": [
    "# 3. 신경망\n",
    "* * *"
   ]
  },
  {
   "cell_type": "markdown",
   "metadata": {},
   "source": [
    "+ 퍼셉트론으로 복잡한 함수도 표현할 수 있음\n",
    "+ 그러나, 가중치를 설정하는 작업 ( 원하는 결과를 출력하도록 가중치 값을 적절히 정하는 작업 ) 은 여전히 사람이 수동으로 해야함\n",
    "</br></br>\n",
    "+ 신경망의 중요한 성질 == 가중치 매개변수의 적절한 값을 데이터로부터 잗ㅇ으로 학습하는 능력"
   ]
  },
  {
   "cell_type": "markdown",
   "metadata": {},
   "source": [
    "## 3.1 퍼셉트론에서 신경망으로\n",
    "+ 신경망은 퍼셉트론과 공통점이 많음\n",
    "+ 퍼셉트론과 다른점을 중심으로 신경망의 구조를 설명함"
   ]
  },
  {
   "cell_type": "markdown",
   "metadata": {},
   "source": [
    "##### <br><br><span style=\"color: green;\">**신경망의 예**</spen>\n",
    "+ 입력층, 출력층, 은닉층\n",
    "    + 은닉층의 뉴런은 사람 눈에 보이지 않음"
   ]
  },
  {
   "cell_type": "markdown",
   "metadata": {},
   "source": [
    "신경망의 예  \n",
    "![](img/neural_network.png)"
   ]
  },
  {
   "cell_type": "markdown",
   "metadata": {},
   "source": [
    "+ 3층으로 구성되어 있으나 가중치를 가지고있는 층은 2개뿐이기에 <spen style=\"color: gold;\">**2층 신경망**</spen>임"
   ]
  },
  {
   "cell_type": "markdown",
   "metadata": {},
   "source": [
    "##### <br><br><span style=\"color: green;\">**퍼셉트론 복습**</spen>\n",
    "![](img/perceptron.png)\n",
    "+ $x_1$과 $x_2$라는 두 신호를 입력받아 $y$를 출력하는 퍼셉트론"
   ]
  },
  {
   "cell_type": "markdown",
   "metadata": {},
   "source": [
    "$$\n",
    "y = \n",
    "\\begin{cases}\n",
    " 0 (b + w_1x_1 + w_2x_2 \\leq 0)\\\\\\\\\n",
    " 1 (b + w_1x_1 + w_2x_2 > 0)\n",
    "\\end{cases}\n",
    "$$\n",
    "+ $b$ == <spen style=\"color: gold;\">**편향**</spen>을 나타내는 매개변수 ( 뉴런이 얼마나 쉽게 활성화되느냐를 제어 )\n",
    "+ $w_1$ && $w_2$ == 각 신호의 <spen style=\"color: gold;\">**가중치**</spen>를 나타내는 매개변수 ( 각 신호의 영향력을 제어 )"
   ]
  },
  {
   "cell_type": "markdown",
   "metadata": {},
   "source": [
    "편향을 명시한 퍼셉트론  \n",
    "![](img/bias_perceptron.png)"
   ]
  },
  {
   "cell_type": "markdown",
   "metadata": {},
   "source": [
    "+ $x_1$, $x_2$, 1이라는 3개의 신호가 뉴런에 입력되어, 각 신호에 가중치를 곱한 후, 다음 뉴런에 전달됨\n",
    "+ 다음 뉴런에서는 이 신호들의 값을 더한 값이 0을 넘으면 1을 출력, 그렇지 않으면 0을 출력함"
   ]
  }
 ],
 "metadata": {
  "language_info": {
   "name": "python"
  }
 },
 "nbformat": 4,
 "nbformat_minor": 2
}
