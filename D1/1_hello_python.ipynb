{
 "cells": [
  {
   "cell_type": "markdown",
   "metadata": {},
   "source": [
    "# 1. 헬로 파이썬\n",
    "* * *"
   ]
  },
  {
   "cell_type": "markdown",
   "metadata": {},
   "source": [
    "## 1.1 파이썬이란?\n",
    "<span style=\"color: green;\">**파이썬**</span> == 간단하고 배우기 쉬운 프로그래밍 언어\n",
    "+ 과학 분야, 특히 기계학습과 데이터 과학 분야에서 널리 쓰임\n",
    "+ '하위 호환성'이 없음 ( 버전에 따라 호환이 안됨 )"
   ]
  },
  {
   "cell_type": "markdown",
   "metadata": {},
   "source": [
    "<span style=\"color: green;\">**자료형**</span> == 데이터의 성질을 나타내는 것 ( ex. 정수, 실수, 문자열과 같은 형태 )\n",
    "+ `type()` 함수 == 특정 데이터의 자료형을 알아볼 수 있음\n",
    "+ 자료형과 클래스를 같은 의미로 사용하는 경우도 있음"
   ]
  },
  {
   "cell_type": "markdown",
   "metadata": {},
   "source": [
    "<span style=\"color: green;\">**변수**</span>\n",
    "+ 파이썬 == 동적언어 ( 변수의 자료형을 상황에 맞게 자동으로 결정 ) ← 파이썬이 스스로 판단"
   ]
  },
  {
   "cell_type": "markdown",
   "metadata": {},
   "source": [
    "<span style=\"color: green;\">**리스트**</span>\n",
    "+ `[ ]` 안의 수 == 인덱스 ( 색인 ) ← 인덱스는 0부터 시작 ( 인덱스 0 == 첫번째 원소 )\n",
    "+ 슬라이싱 == 범위를 지정해 원하는 부분 리스트를 얻을 수 있음\n",
    "    + `[시작 인덱스:끝 인덱스 다음 인덱스]`<br>\n",
    "    &nbsp;&nbsp;&nbsp;&nbsp;ex. `a[0:2] == 0 ~ 1번째 인덱스\n",
    "    + -1 == 마지막 원소\n",
    "    + -2 == 마지막에서 하나 앞 원소"
   ]
  },
  {
   "cell_type": "code",
   "execution_count": 1,
   "metadata": {},
   "outputs": [
    {
     "name": "stdout",
     "output_type": "stream",
     "text": [
      "[1, 2, 3, 4, 5]\n",
      "len = 5\n",
      "첫번째 인덱스 = 1\n",
      "다섯번째 인덱스 = 5\n",
      "[1, 2, 3, 4, 99]\n",
      "첫번째부터 두번째 인덱스 = [1, 2]\n",
      "두번째 인덱스부터 끝까지 = [2, 3, 4, 99]\n",
      "처음부터 세번째 인덱스까지 = [1, 2, 3]\n",
      "마지막 인덱스 바로 앞 인덱스까지 = [1, 2, 3, 4]\n"
     ]
    }
   ],
   "source": [
    "a = [1, 2, 3, 4, 5]\n",
    "print(a)\n",
    "print(\"len =\", len(a)) # 리스트의 길이 출력\n",
    "print(\"첫번째 인덱스 =\", a[0])\n",
    "print(\"다섯번째 인덱스 =\", a[4])\n",
    "\n",
    "a[4] = 99 # 다섯번째 인덱스의 값을 99로 변경\n",
    "print(a)\n",
    "print(\"첫번째부터 두번째 인덱스 =\", a[0:2])\n",
    "print(\"두번째 인덱스부터 끝까지 =\", a[1:])\n",
    "print(\"처음부터 세번째 인덱스까지 =\", a[:3])\n",
    "print(\"마지막 인덱스 바로 앞 인덱스까지 =\", a[:-1])"
   ]
  },
  {
   "cell_type": "markdown",
   "metadata": {},
   "source": [
    "<span style=\"color: green;\">**딕셔너리**</span>\n",
    "+ key와 value를 한 쌍으로 저장"
   ]
  },
  {
   "cell_type": "code",
   "execution_count": 2,
   "metadata": {},
   "outputs": [
    {
     "name": "stdout",
     "output_type": "stream",
     "text": [
      "{'height': 180}\n",
      "{'height': 180, 'weight': 70}\n"
     ]
    }
   ],
   "source": [
    "me = {'height':180} # 딕셔너리 생성\n",
    "print(me)\n",
    "\n",
    "me['weight'] = 70 # 요소 추가\n",
    "print(me)"
   ]
  },
  {
   "cell_type": "markdown",
   "metadata": {},
   "source": [
    "<span style=\"color: green;\">**bool**</span>\n",
    "+ True(참)와 False(거짓) 두 값 중 하나를 취함\n",
    "+ `and, or, not` 연산자 사용 가능\n",
    "+ 수치용 연산자 == `+, -, *, /` 등이 있어 자료형에 따라 사용할 수 있는 연산자가 정해져있음"
   ]
  },
  {
   "cell_type": "code",
   "execution_count": null,
   "metadata": {},
   "outputs": [],
   "source": [
    "hungry = True\n",
    "sleepy = False\n",
    "\n",
    "print(type(hungry)) # 자료형 출력\n",
    "print(not hungry) # not 연산자\n",
    "print(hungry and sleepy) # and 연산자\n",
    "print(hungry or sleepy) # or 연산자"
   ]
  }
 ],
 "metadata": {
  "kernelspec": {
   "display_name": "school",
   "language": "python",
   "name": "python3"
  },
  "language_info": {
   "codemirror_mode": {
    "name": "ipython",
    "version": 3
   },
   "file_extension": ".py",
   "mimetype": "text/x-python",
   "name": "python",
   "nbconvert_exporter": "python",
   "pygments_lexer": "ipython3",
   "version": "3.12.2"
  }
 },
 "nbformat": 4,
 "nbformat_minor": 2
}
