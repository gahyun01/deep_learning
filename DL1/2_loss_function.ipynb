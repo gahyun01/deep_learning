{
 "cells": [
  {
   "cell_type": "markdown",
   "metadata": {},
   "source": [
    "# 4. 신경망 학습\n",
    "\n",
    "* * *"
   ]
  },
  {
   "cell_type": "markdown",
   "metadata": {},
   "source": [
    "+ <spen style=\"color: gold;\">**학습**</spen> == 훈련 데이터로부터 가중치 매개변수의 최적값을 자동으로 획득하는 것\n",
    "+ <spen style=\"color: gold;\">**손실함수**</spen> == 신경망이 학습할 수 있도록 해주는 <spen style=\"color: rosybrown;\">**지표**</spen>  \n",
    "<spen style=\"color: palevioletred;\">**학습목표 : 손실 함수의 결과값을 가장 작게 만드는 가중치 매개변수를 찾는것**</spen>"
   ]
  }
 ],
 "metadata": {
  "language_info": {
   "name": "python"
  }
 },
 "nbformat": 4,
 "nbformat_minor": 2
}
