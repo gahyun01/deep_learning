{
 "cells": [
  {
   "cell_type": "markdown",
   "metadata": {},
   "source": [
    "# 3. 신경망\n",
    "* * *"
   ]
  },
  {
   "cell_type": "markdown",
   "metadata": {},
   "source": [
    "+ 퍼셉트론으로 복잡한 함수도 표현할 수 있음\n",
    "+ 그러나, 가중치를 설정하는 작업 ( 원하는 결과를 출력하도록 가중치 값을 적절히 정하는 작업 ) 은 여전히 사람이 수동으로 해야함\n",
    "</br></br>\n",
    "+ 신경망의 중요한 성질 == 가중치 매개변수의 적절한 값을 데이터로부터 자동으로 학습하는 능력"
   ]
  },
  {
   "cell_type": "markdown",
   "metadata": {},
   "source": [
    "## 3.1 퍼셉트론에서 신경망으로\n",
    "+ 신경망은 퍼셉트론과 공통점이 많음\n",
    "+ 퍼셉트론과 다른점을 중심으로 신경망의 구조를 설명함"
   ]
  },
  {
   "cell_type": "markdown",
   "metadata": {},
   "source": [
    "##### <br><br><span style=\"color: mediumaquamarine;\">**신경망의 예**</spen>\n",
    "+ 입력층, 출력층, 은닉층\n",
    "    + 은닉층의 뉴런은 사람 눈에 보이지 않음"
   ]
  },
  {
   "cell_type": "markdown",
   "metadata": {},
   "source": [
    "신경망의 예  \n",
    "\n",
    "<img src=\"../img/neural_network.png\" width='600'>"
   ]
  },
  {
   "cell_type": "markdown",
   "metadata": {},
   "source": [
    "+ 3층으로 구성되어 있으나 가중치를 가지고있는 층은 2개뿐이기에 <spen style=\"color: rosybrown;\">**2층 신경망**</spen>임"
   ]
  },
  {
   "cell_type": "markdown",
   "metadata": {},
   "source": [
    "##### <br><br><span style=\"color: mediumaquamarine;\">**퍼셉트론 복습**</spen>\n",
    "<img src=\"../img/perceptron.png\" width='300'>  \n",
    "\n",
    "+ $x_1$과 $x_2$라는 두 신호를 입력받아 $y$를 출력하는 퍼셉트론"
   ]
  },
  {
   "cell_type": "markdown",
   "metadata": {},
   "source": [
    "$$\n",
    "y = \n",
    "\\begin{cases}\n",
    " 0 (b + w_1x_1 + w_2x_2 \\leq 0)\\\\\\\\\n",
    " 1 (b + w_1x_1 + w_2x_2 > 0)\n",
    "\\end{cases}\n",
    "$$\n",
    "+ $b$ == <spen style=\"color: rosybrown;\">**편향**</spen>을 나타내는 매개변수 ( 뉴런이 얼마나 쉽게 활성화되느냐를 제어 )\n",
    "+ $w_1$ && $w_2$ == 각 신호의 <spen style=\"color: rosybrown;\">**가중치**</spen>를 나타내는 매개변수 ( 각 신호의 영향력을 제어 )"
   ]
  },
  {
   "cell_type": "markdown",
   "metadata": {},
   "source": [
    "편향을 명시한 퍼셉트론  \n",
    "<img src=\"../img/bias_perceptron.png\" width='300'>"
   ]
  },
  {
   "cell_type": "markdown",
   "metadata": {},
   "source": [
    "+ $x_1$, $x_2$, 1이라는 3개의 신호가 뉴런에 입력되어, 각 신호에 가중치를 곱한 후, 다음 뉴런에 전달됨\n",
    "+ 다음 뉴런에서는 이 신호들의 값을 더한 값이 0을 넘으면 1을 출력, 그렇지 않으면 0을 출력함"
   ]
  },
  {
   "cell_type": "markdown",
   "metadata": {},
   "source": [
    "+ $h(x)$ == 조건 분기의 동작 ( 0을 넘으면 1을 출력하고 그렇지 않으면 0을 출력 ) 을 나타내는 함수\n",
    "$$\n",
    "y = h(b + w_1x_1 + w_2x_2)\n",
    "$$\n",
    "$$\n",
    "h(x) = \n",
    "\\begin{cases}\n",
    " 0 (x \\leq 0)\\\\\\\\\n",
    " 1 (x > 0)\n",
    "\\end{cases}\n",
    "$$"
   ]
  },
  {
   "cell_type": "markdown",
   "metadata": {},
   "source": [
    "##### <br><br><span style=\"color: mediumaquamarine;\">**활성화 함수의 등장**</spen>\n",
    "+ <spen style=\"color: gold;\">**활성화 함수 ( activation function )**</spen> == 입력 신호의 총합을 출력 신호로 변환하는 함수\n",
    "    + 활성화 함수는 입력 신호의 총합이 활성화를 일으키는지를 정하는 역할"
   ]
  },
  {
   "cell_type": "markdown",
   "metadata": {},
   "source": [
    "##### <br><br><span style=\"color: mediumaquamarine;\">**가중치와 편향 구현하기**</spen>\n",
    "+ <spen style=\"color: palevioletred;\">**가중치와 편향을 도입**</spen>한 AND 게이트"
   ]
  },
  {
   "cell_type": "markdown",
   "metadata": {},
   "source": [
    "+ 위의 식 ( 편향을 적용한 퍼셉트론 ) 에서 y를 아래와 같이 2개의 식으로 나눌 수 있음\n",
    "$$\n",
    "\\begin{aligned}\n",
    "1단계 &\\quad a = b + w_1x_1 + w_2x_2 \\\\\n",
    "2단계 &\\quad y = h(a)\n",
    "\\end{aligned}\n",
    "$$"
   ]
  },
  {
   "cell_type": "markdown",
   "metadata": {},
   "source": [
    "+ 1단계 : 가중치가 달린 입력 신호와 편향의 총합을 계산하여 $a$에 대입\n",
    "+ 2단계 : $a$를 함수 $h()$에 넣어 $y$를 출력하는 흐름"
   ]
  },
  {
   "cell_type": "markdown",
   "metadata": {},
   "source": [
    "활성화 함수의 처리 과정  \n",
    "\n",
    "<img src=\"../img/activation_function.png\" width='300'>  \n",
    "\n",
    "+ 뉴런을 큰 원 ( ◯ ) 으로 그려보면 위의 식 1,2단계가 다음과 같이 나타남\n",
    "+ $a$노드 == 가중치 신호를 조합한 결과\n",
    "+ 활성화 함수 $h()$를 통과하여 $y$노드로 변환"
   ]
  },
  {
   "cell_type": "markdown",
   "metadata": {},
   "source": [
    "왼쪽은 일반적인 뉴런, 오른쪽은 활성화 처리 과정을 명시한 뉴런  \n",
    "\n",
    "![](../img/neuron.png)"
   ]
  },
  {
   "cell_type": "markdown",
   "metadata": {},
   "source": [
    "일반적으로 단순 퍼셉트론은 단층 네트워크에서 계단 함수(임계값을 경계로 출력이 바뀌는 함수)를 활성화 함수로 사용한 모델을 가리키고,  \n",
    "다층 퍼셉트론은 신경망(여러 층으로 구성되고 시그모이드 함수 등의 매끈한 활성화 함수를 사용하는 네트워크)을 가리킨다."
   ]
  }
 ],
 "metadata": {
  "kernelspec": {
   "display_name": "school",
   "language": "python",
   "name": "python3"
  },
  "language_info": {
   "codemirror_mode": {
    "name": "ipython",
    "version": 3
   },
   "file_extension": ".py",
   "mimetype": "text/x-python",
   "name": "python",
   "nbconvert_exporter": "python",
   "pygments_lexer": "ipython3",
   "version": "3.12.2"
  }
 },
 "nbformat": 4,
 "nbformat_minor": 2
}
