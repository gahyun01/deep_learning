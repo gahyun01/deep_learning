{
 "cells": [
  {
   "cell_type": "markdown",
   "metadata": {},
   "source": [
    "# 3. 신경망\n",
    "* * *"
   ]
  },
  {
   "cell_type": "markdown",
   "metadata": {},
   "source": [
    "+ 퍼셉트론으로 복잡한 함수도 표현할 수 있음\n",
    "+ 그러나, 가중치를 설정하는 작업 ( 원하는 결과를 출력하도록 가중치 값을 적절히 정하는 작업 ) 은 여전히 사람이 수동으로 해야함\n",
    "</br></br>\n",
    "+ 신경망의 중요한 성질 == 가중치 매개변수의 적절한 값을 데이터로부터 잗ㅇ으로 학습하는 능력"
   ]
  },
  {
   "cell_type": "markdown",
   "metadata": {},
   "source": [
    "## 3.6 손글씨 숫자 인식\n",
    "+ 이미 학습된 매개변수를 사용하여 학습 과정은 생략하고, 추론 과정만 구현\n",
    "+ 추론과정 == 신경망의 순전파 ( forward propagation )\n",
    "</br></br>\n",
    "+ 신경망은 두 단계를 거쳐 문제를 해결함\n",
    "    + 훈련 데이터 ( 학습 데이터 ) 를 사용해 가중치 매개변수 학습\n",
    "    + 추론 단계에서 앞서 학습한 매개변수를 사용하여 입력 데이터를 분류"
   ]
  },
  {
   "cell_type": "markdown",
   "metadata": {},
   "source": [
    "##### <br><br><span style=\"color: mediumaquamarine;\">**MNIST 데이터셋**</spen>\n",
    "+ <spen style=\"color: gold;\">**MNIST 데이터셋**</spen> == 손글씨 숫자 이미지 집합 ( 0 ~ 9 )\n",
    "    + 기계학습 분야에서 아주 유명한 데이터셋\n",
    "    + 간단한 실험부터 논문으로 발표되는 연구까지 다양한 곳에서 이용함\n",
    "    + 이미지 인식이나 기계학습 논문들을 읽다 보면 실험용 데이터로 자주 등장하는 것을 확인할 수 있음\n",
    "+ 일반적으로 훈련 이미지들을 사용하여 모델을 학습하고, 학습한 모델로 시험 이미지들을 얼마나 정확하게 분류하는지를 평가함\n",
    "</br></br>\n",
    "+ 28 X 28 크기의 회색조 이미지 ( 채널 1 )\n",
    "+ 각 픽셀은 0 ~ 255까지의 값을 취함\n",
    "+ 가 이미지가 실제 의미하는 숫자가 레이블로 붙어있음"
   ]
  },
  {
   "cell_type": "code",
   "execution_count": 1,
   "metadata": {},
   "outputs": [
    {
     "name": "stdout",
     "output_type": "stream",
     "text": [
      "(60000, 784)\n",
      "(60000,)\n",
      "(10000, 784)\n",
      "(10000,)\n"
     ]
    }
   ],
   "source": [
    "import sys, os\n",
    "sys.path.append(os.pardir) # 부모 디렉터리의 파일을 가져올 수 있도록 설정\n",
    "from dataset.mnist import load_mnist\n",
    "\n",
    "# load_mnist가 MNIST 데이터를 받아와야 하니 최초 실행 시에는 인터넷에 연결된 상태여야 한다.\n",
    "(x_train, t_train), (x_test, t_test) = load_mnist(flatten=True, normalize=False)\n",
    "\n",
    "# 각 데이터의 형상 출력\n",
    "print(x_train.shape)\n",
    "print(t_train.shape)\n",
    "print(x_test.shape)\n",
    "print(t_test.shape)"
   ]
  },
  {
   "cell_type": "markdown",
   "metadata": {},
   "source": [
    "+ ```load_mnist``` 함수 == 읽은 MNIST 데이터를 \"( 훈련 이미지, 훈련 레이블 ), ( 시험 이미지, 시험 레이블 )\" 형식으로 반환\n",
    "    <spen style=\"color: rosybrown;\">**인수**</spen>\n",
    "    + ```normalize``` == 입력 이미지의 픽셀 값을 0.0 ~ 1.0 사이의 값으로 정규화할지를 정함\n",
    "        + False == 입력 이미지의 픽셀은 원래 값 그대로 0 ~ 255 사이의 값을 유지\n",
    "    + ```flatten``` == 입력 이미지를 평탄하게, 즉 1차원 배열로 만들지를 정함\n",
    "        + False == 입력 이미지가 1 X 28 X 28의 3차원 배열\n",
    "        + True == 입력 이미지가 784개의 원소로 이뤄진 1차원 배열\n",
    "    + ```one_hot_lable``` == 원-핫 인코딩 형태로 저장할지를 정함\n",
    "        + False == '7', '2'와 같이 숫자 형태의 레이블을 저장\n",
    "        + True == 레이블을 원-핫 인코딩하여 저장 ( <spen style=\"color: gold;\">**원-핫 인코딩 ( one-hot encoding )**</spen> == 정답을 뜻하는 원소만 1이고 ( hot하고 ) 나머지는 모두 0인 배열 )"
   ]
  },
  {
   "cell_type": "markdown",
   "metadata": {},
   "source": [
    "+ <spen style=\"color: gold;\">**pickle ( 피클 )**</spen> == 프로그램 실행 중에 특정 객체를 파일로 저장하는 기능\n",
    "    + 저장해둔 pickle 파일을 로드하면 실행 당시의 객체를 즉시 복원할 수 있음\n",
    "+ PIL ( Python Image Library ) 모듈 == 이미지 표시에 사용"
   ]
  },
  {
   "cell_type": "code",
   "execution_count": 2,
   "metadata": {},
   "outputs": [
    {
     "name": "stdout",
     "output_type": "stream",
     "text": [
      "5\n",
      "(784,)\n",
      "(28, 28)\n"
     ]
    }
   ],
   "source": [
    "import sys, os\n",
    "sys.path.append(os.pardir)\n",
    "import numpy as np\n",
    "from dataset.mnist import load_mnist\n",
    "from PIL import Image\n",
    "\n",
    "def img_show(img):\n",
    "    pil_img = Image.fromarray(np.uint8(img))\n",
    "    pil_img.show()\n",
    "\n",
    "(x_train, t_train), (x_test, t_test) = load_mnist(flatten=True, normalize=False)\n",
    "\n",
    "img = x_train[0]\n",
    "label = t_train[0]\n",
    "print(label)\n",
    "\n",
    "print(img.shape)\n",
    "img = img.reshape(28, 28) # 원래 이미지의 모양으로 변형\n",
    "print(img.shape)\n",
    "\n",
    "img_show(img)"
   ]
  },
  {
   "cell_type": "markdown",
   "metadata": {},
   "source": [
    "<spen style=\"color: palevioletred;\">**주의사항**</spen>\n",
    "+ ```flatten=True```로 설정해 읽어들인 이미지는 1차원 넘파이 배열로 저장되어있음\n",
    "    + 이미지를 표시할 때는 원래 형상인 28 X 28 크기로 다시 변형\n",
    "+ ```reshape()``` 메서드에 원하는 형상을 인수로 지정하면 넘파이 배열의 형상을 바꿀 수 있음\n",
    "+ ```Image.fromarray()``` == 넘파이로 저장된 이미지 데이터를 PIL용 데이터 객체로 변환"
   ]
  },
  {
   "cell_type": "markdown",
   "metadata": {},
   "source": [
    "##### <br><br><span style=\"color: mediumaquamarine;\">**신경망의 추론 처리**</spen>\n",
    "+ MNIST 데이터셋으로 추론을 수행하는 신경망 구현\n",
    "    + <spen style=\"color: rosybrown;\">**입력층 뉴런**</spen> == 784개 ( 이미지 크기 28 X 28 = 784 )\n",
    "    + <spen style=\"color: rosybrown;\">**출력층 뉴런**</spen> == 10개 ( 0 ~ 9까지의 숫자를 구분하는 문제이기 때문 ← 총 10개 )  \n",
    "    + <spen style=\"color: rosybrown;\">**은닉층 2개**</spen> ( 뉴런 수 임의로 정함 )\n",
    "        + 첫번째 은닉층 == 50개\n",
    "        + 두번째 은닉층 == 100개"
   ]
  },
  {
   "cell_type": "code",
   "execution_count": 3,
   "metadata": {},
   "outputs": [],
   "source": [
    "import pickle\n",
    "from fucntion import sigmoid, softmax\n",
    "\n",
    "def get_data():\n",
    "    (x_train, t_train), (x_test, t_test) = load_mnist(normalize=True, flatten=True, one_hot_label=False)\n",
    "    return x_test, t_test\n",
    "\n",
    "def init_network():\n",
    "    with open(\"../dataset/sample_weight.pkl\", 'rb') as f:\n",
    "        network = pickle.load(f)\n",
    "    return network\n",
    "\n",
    "def predict(network, x):\n",
    "    W1, W2, W3 = network['W1'], network['W2'], network['W3']\n",
    "    b1, b2, b3 = network['b1'], network['b2'], network['b3']\n",
    "\n",
    "    a1 = np.dot(x, W1) + b1\n",
    "    z1 = sigmoid(a1)\n",
    "    a2 = np.dot(z1, W2) + b2\n",
    "    z2 = sigmoid(a2)\n",
    "    a3 = np.dot(z2, W3) + b3\n",
    "    y = softmax(a3)\n",
    "\n",
    "    return y"
   ]
  },
  {
   "cell_type": "markdown",
   "metadata": {},
   "source": [
    "+ ```init_network()``` == pickle 파일인 sample_weight.pkl에 저장된 '학습된 가중치 매개변수'를 읽음\n",
    "    + 가중치와 편향 매개변수가 딕셔너리 변수로 저장되어 있음"
   ]
  },
  {
   "cell_type": "code",
   "execution_count": 4,
   "metadata": {},
   "outputs": [
    {
     "name": "stdout",
     "output_type": "stream",
     "text": [
      "Accuracy:0.9352\n"
     ]
    }
   ],
   "source": [
    "x, t = get_data()\n",
    "network = init_network()\n",
    "\n",
    "accuracy_cnt = 0\n",
    "for i in range(len(x)):\n",
    "    y = predict(network, x[i])\n",
    "    p = np.argmax(y) # 확률이 가장 높은 원소의 인덱스를 얻는다.\n",
    "    if p == t[i]:\n",
    "        accuracy_cnt += 1\n",
    "\n",
    "print(\"Accuracy:\" + str(float(accuracy_cnt) / len(x)))"
   ]
  },
  {
   "cell_type": "markdown",
   "metadata": {},
   "source": [
    "+ **신경망에 의한 추론을 수행해보고, <spen style=\"color: palevioletred;\">정확도 ( accuracy )</span>** **를 평가**\n",
    "    1. MNIST 데이터셋을 얻고 네트워크를 생성\n",
    "    2. for문을 돌며 x에 저장된 이미지 데이터를 하나씩 꺼내 ```predict()``` 함수로 분류\n",
    "        + ```predict()``` 함수 == 각 레이블의 확률을 넘파이 배열로 반환\n",
    "    3. ```np.argmax()``` 함수로 배열 중 값이 가장 큰 ( 확률이 가장 높은 ) 원소의 인덱스를 구함 ← 예측결과\n",
    "    4. 신경망이 예측한 답변과 정답 레이블을 비교하여 맞힌 숫자 ( accuracy_cnt ) 를 세고, 이를 전체 이미지 숫자로 나누어 정확도를 구함\n",
    "+ 입력 이미지 데이터에 대한 전처리 작업으로 정규화를 수행함\n",
    "+ 올바르게 분류한 비율 == 93.52%"
   ]
  },
  {
   "cell_type": "markdown",
   "metadata": {},
   "source": [
    "+ <spen style=\"color: gold;\">**정규화 ( normalization )**</spen> == 데이터를 특정 범위로 변환하는 처리\n",
    "+ <spen style=\"color: gold;\">**전처리 ( pre-processing )**</spen> == 신경망의 입력 데이터에 특정 변환을 가하는 것\n",
    "    + 전처리를 통해 식별 능력을 개선하고 학습 속도를 높이는 등의 사례가 많이 제시되고있음\n",
    "    + 현업에서는 데이터 전체의 분포를 고려해 전처리하는 경우가 많음\n",
    "        + 데이터 전체 평균과 표준편차를 이용하여 데이터들이 0을 중심으로 분포하도록 이동시킴\n",
    "        + 데이터의 확산 범위를 제한하는 정규화를 수행\n",
    "+ <spen style=\"color: gold;\">**데이터 백색화 ( whitedning )**</spen> == 전체 데이터를 균일하게 분포시킴"
   ]
  },
  {
   "cell_type": "markdown",
   "metadata": {},
   "source": [
    "##### <br><br><span style=\"color: mediumaquamarine;\">**배치 처리**</spen>\n",
    "+ 입력 데이터와 가중치 매개변수의 '형상'에 주의해서 구현"
   ]
  },
  {
   "cell_type": "code",
   "execution_count": null,
   "metadata": {},
   "outputs": [],
   "source": []
  }
 ],
 "metadata": {
  "kernelspec": {
   "display_name": "school",
   "language": "python",
   "name": "python3"
  },
  "language_info": {
   "codemirror_mode": {
    "name": "ipython",
    "version": 3
   },
   "file_extension": ".py",
   "mimetype": "text/x-python",
   "name": "python",
   "nbconvert_exporter": "python",
   "pygments_lexer": "ipython3",
   "version": "3.12.2"
  }
 },
 "nbformat": 4,
 "nbformat_minor": 2
}
