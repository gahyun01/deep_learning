{
 "cells": [
  {
   "cell_type": "markdown",
   "metadata": {},
   "source": [
    "# 3. 신경망\n",
    "* * *"
   ]
  },
  {
   "cell_type": "markdown",
   "metadata": {},
   "source": [
    "+ 퍼셉트론으로 복잡한 함수도 표현할 수 있음\n",
    "+ 그러나, 가중치를 설정하는 작업 ( 원하는 결과를 출력하도록 가중치 값을 적절히 정하는 작업 ) 은 여전히 사람이 수동으로 해야함\n",
    "</br></br>\n",
    "+ 신경망의 중요한 성질 == 가중치 매개변수의 적절한 값을 데이터로부터 잗ㅇ으로 학습하는 능력"
   ]
  },
  {
   "cell_type": "markdown",
   "metadata": {},
   "source": [
    "## 3.2 활성화 함수"
   ]
  },
  {
   "cell_type": "markdown",
   "metadata": {},
   "source": [
    "+ 위의 활성화 함수는 임계값을 경계로 출력이 바뀌는데, 이런 함수를 <spen style=\"color: gold;\">**계단 함수 ( step function )**</spen> 이라고 함\n",
    "+ 퍼셉트론에서는 활성화 함수로 계단 함수를 이용한다.\n",
    "    + 활성화 함수로 쓸 수 있는 여러 후보 중에서 퍼셉트론은 계단 함수를 채용함\n",
    "+ <spen style=\"color: palevioletred;\">**활성화 함수를 계단 함수에서 다른 함수로 변경하는것**</spen>이 신경망의 세계로 나아가는 열쇠 !!"
   ]
  },
  {
   "cell_type": "markdown",
   "metadata": {},
   "source": [
    "##### <br><br><span style=\"color: mediumaquamarine;\">**시그모이드 함수**</spen>"
   ]
  },
  {
   "cell_type": "markdown",
   "metadata": {},
   "source": [
    "$$\n",
    "\\sigma(x) = \\frac{1}{1 + exp^{(-x)}}\n",
    "$$\n",
    "+ $exp^{(-x)}$ == $e^{-x}$\n",
    "+ 함수 == 입력을 주면 출력을 돌려주는 변환기\n",
    "+ 신경망에서는 활성화 함수로 시그모이드 함수를 이용하여 신호를 변환하고, 그 변환된 신호를 다음 뉴런에 전달함"
   ]
  },
  {
   "cell_type": "markdown",
   "metadata": {},
   "source": [
    "##### <br><br><span style=\"color: mediumaquamarine;\">**계단 함수 구현하기**</spen>\n",
    "+ <spen style=\"color: gold;\">**계단함수**</spen> == 입력이 0을 넘으면 1을 출력하고, 그 외에는 0을 출력하는 함수"
   ]
  },
  {
   "cell_type": "code",
   "execution_count": 1,
   "metadata": {},
   "outputs": [],
   "source": [
    "# 문제점 : 인수 x는 실수 ( 부동소수점 ) 만 받아들임 ( 넘파이 배열을 인수로 넣을 수 없음 )\n",
    "def step_function(x):\n",
    "    if x > 0:\n",
    "        return 1\n",
    "    else:\n",
    "        return 0"
   ]
  },
  {
   "cell_type": "code",
   "execution_count": 2,
   "metadata": {},
   "outputs": [],
   "source": [
    "import numpy as np\n",
    "\n",
    "# 문제점 개선\n",
    "def step_function(x):\n",
    "    y = x > 0\n",
    "    return y.astype(int)"
   ]
  },
  {
   "cell_type": "markdown",
   "metadata": {},
   "source": [
    "+ 넘파이 배열에 부등호 연산을 수행하면 배열의 원소 각각에 부등호 연산을 수행한 bool 배열이 생성됨\n",
    "    + 배열 x의 원소 각각이 0보다 크면 True, 0이하면 False로 변환한 새로운 배열 y 생성\n",
    "+ 계단 함수는 0 || 1인 계단함수 ( y의 원소를 int형으로 바꿔줌 )"
   ]
  },
  {
   "cell_type": "code",
   "execution_count": 3,
   "metadata": {},
   "outputs": [
    {
     "name": "stdout",
     "output_type": "stream",
     "text": [
      "x =  [-1.  1.  2.]\n",
      "x > 0 bool형 :  [False  True  True]\n"
     ]
    }
   ],
   "source": [
    "import numpy as np\n",
    "\n",
    "x = np.array([-1.0, 1.0, 2.0])\n",
    "print(\"x = \", x)\n",
    "y =  x > 0\n",
    "print(\"x > 0 bool형 : \", y)"
   ]
  },
  {
   "cell_type": "code",
   "execution_count": 4,
   "metadata": {},
   "outputs": [
    {
     "name": "stdout",
     "output_type": "stream",
     "text": [
      "x > 0 int형 :  [0 1 1]\n"
     ]
    }
   ],
   "source": [
    "y = y.astype(int)\n",
    "print(\"x > 0 int형 : \", y)"
   ]
  },
  {
   "cell_type": "markdown",
   "metadata": {},
   "source": [
    "+ 계단 함수 구현에서 사용한 넘파이의 '트릭'\n",
    "    + 넘파이 배열의 자료형을 변환할 때는 ```astype()``` 메서드 이용\n",
    "    + True == 1, False == 0"
   ]
  },
  {
   "cell_type": "markdown",
   "metadata": {},
   "source": [
    "##### <br><br><span style=\"color: mediumaquamarine;\">**계단 함수의 그래프**</spen>"
   ]
  },
  {
   "cell_type": "code",
   "execution_count": 5,
   "metadata": {},
   "outputs": [
    {
     "data": {
      "image/png": "[encoded data removed]",
      "text/plain": [
       "<Figure size 640x480 with 1 Axes>"
      ]
     },
     "metadata": {},
     "output_type": "display_data"
    }
   ],
   "source": [
    "import numpy as np\n",
    "import matplotlib.pylab as plt\n",
    "\n",
    "def step_function(x):\n",
    "    return np.array(x > 0, dtype=int)\n",
    "\n",
    "x = np.arange(-5.0, 5.0, 0.1)\n",
    "y = step_function(x)\n",
    "plt.plot(x, y)\n",
    "plt.ylim(-0.1, 1.1) # y축의 범위 지정\n",
    "plt.show()"
   ]
  },
  {
   "cell_type": "markdown",
   "metadata": {},
   "source": [
    "+ ```np.arange(start, end, interval)``` == start ~ end 전까지 interval 간격의 넘파이 배열 생성\n",
    "+ 0을 경계로 0 || 1 출력\n",
    "+ 계단처럼 생겼기 때문에 '계단함수'라고 불림"
   ]
  },
  {
   "cell_type": "markdown",
   "metadata": {},
   "source": [
    "##### <br><br><span style=\"color: mediumaquamarine;\">**시그모이드 함수 구현하기**</spen>"
   ]
  },
  {
   "cell_type": "code",
   "execution_count": 6,
   "metadata": {},
   "outputs": [],
   "source": [
    "def sigmoid(x):\n",
    "    return 1 / (1 + np.exp(-x))"
   ]
  },
  {
   "cell_type": "code",
   "execution_count": 7,
   "metadata": {},
   "outputs": [
    {
     "data": {
      "text/plain": [
       "array([0.26894142, 0.73105858, 0.88079708])"
      ]
     },
     "execution_count": 7,
     "metadata": {},
     "output_type": "execute_result"
    }
   ],
   "source": [
    "x = np.array([-1.0, 1.0, 2.0])\n",
    "sigmoid(x)"
   ]
  },
  {
   "cell_type": "markdown",
   "metadata": {},
   "source": [
    "+ 함수에 넘파이 배열을 처리해줄 넘파이 브로드캐스트가 있다.\n",
    "    + 브로드캐스트 기능 == 넘파이 배열과 스칼라값의 연산을 넘파이 배열의 원소 각각과 스칼라값의 연산으로 바꿔 수행하는 것 "
   ]
  },
  {
   "cell_type": "code",
   "execution_count": 8,
   "metadata": {},
   "outputs": [
    {
     "name": "stdout",
     "output_type": "stream",
     "text": [
      "1.0 + t =  [2. 3. 4.]\n",
      "1.0 / t =  [1.         0.5        0.33333333]\n"
     ]
    }
   ],
   "source": [
    "t = np.array([1.0, 2.0, 3.0])\n",
    "print(\"1.0 + t = \", 1.0 + t)\n",
    "print(\"1.0 / t = \", 1.0 / t)"
   ]
  },
  {
   "cell_type": "markdown",
   "metadata": {},
   "source": [
    "+ 스칼라값과 넘파이 배열의 각 원소 사이에서 연산이 이뤄지고, 연산 결과가 넘파이 배열로 출력됨"
   ]
  },
  {
   "cell_type": "code",
   "execution_count": 9,
   "metadata": {},
   "outputs": [
    {
     "data": {
      "image/png": "[encoded data removed]",
      "text/plain": [
       "<Figure size 640x480 with 1 Axes>"
      ]
     },
     "metadata": {},
     "output_type": "display_data"
    }
   ],
   "source": [
    "x = np.arange(-5.0, 5.0, 0.1)\n",
    "y = sigmoid(x)\n",
    "plt.plot(x, y)\n",
    "plt.ylim(-0.1, 1.1) # y축 범위 지정\n",
    "plt.show()"
   ]
  },
  {
   "cell_type": "markdown",
   "metadata": {},
   "source": [
    "+ <spen style=\"color: gold;\">**시그모이드 ( sigmoid )**</spen> = S자 모양"
   ]
  },
  {
   "cell_type": "markdown",
   "metadata": {},
   "source": [
    "##### <br><br><span style=\"color: mediumaquamarine;\">**시그모이드 함수와 계단 함수 비교**</spen>"
   ]
  },
  {
   "cell_type": "code",
   "execution_count": 10,
   "metadata": {},
   "outputs": [
    {
     "data": {
      "image/png": "[encoded data removed]",
      "text/plain": [
       "<Figure size 640x480 with 1 Axes>"
      ]
     },
     "metadata": {},
     "output_type": "display_data"
    }
   ],
   "source": [
    "x = np.arange(-5.0, 5.0, 0.1)\n",
    "y1 = step_function(x)\n",
    "y2 = sigmoid(x)\n",
    "plt.plot(x, y1, linestyle='--', color='darkgray')\n",
    "plt.plot(x, y2)\n",
    "plt.ylim(-0.1, 1.1)\n",
    "plt.show()"
   ]
  },
  {
   "cell_type": "markdown",
   "metadata": {},
   "source": [
    "<spen style=\"color: rosybrown;\">**차이점**</spen>\n",
    "+ 매끄러움\n",
    "    + 시그모이드 함수의 매끈함이 신경망 학습에서 아주 중요한 역할을 함\n",
    "    + 퍼셉트론에서는 뉴런 사이에 0 || 1이 흘렀다면, <spen style=\"color: palevioletred;\">**신경망에서는 연속적인 실수가 흐름**</spen>"
   ]
  },
  {
   "cell_type": "markdown",
   "metadata": {},
   "source": [
    "<spen style=\"color: rosybrown;\">**공통점**</spen>\n",
    "+ 입력이 작을 때의 출력은 0에 가깝고, 입력이 커지면 출력이 1에 가까워지는 구조\n",
    "    + 계단 함수와 시그모이드 함수는 <spen style=\"color: palevioletred;\">**입력이 중요하면 큰 값을 출력하고 입력이 중요하지 않으면 작은 값을 출력**</spen>함"
   ]
  },
  {
   "cell_type": "markdown",
   "metadata": {},
   "source": [
    "##### <br><br><span style=\"color: mediumaquamarine;\">**비선형 함수**</spen>\n",
    "+ 시그모이드 함수 == 곡선\n",
    "+ <spen style=\"color: gold;\">**계단 함수**</spen> == 계단처럼 구부러진 직선 || 비선형 함수\n",
    "</br></br>\n",
    "+ <spen style=\"color: gold;\">**선형 함수**</spen> == 출력이 입력의 상수배만큼 변하는 함수\n",
    "    + 때문에 곧은 1개의 직선임\n",
    "+ <spen style=\"color: gold;\">**비선형 함수**</spen> == '선형이 아닌 함수'\n",
    "    + 직선 1개로는 그릴 수 없는 함수"
   ]
  },
  {
   "cell_type": "markdown",
   "metadata": {},
   "source": [
    "+ 신경망에서는 활성화 함수로 비선형 함수를 사용해야함\n",
    "    + <spen style=\"color: palevioletred;\">**선형 함수를 이용하면 신경망의 층을 깊게 하는 의미가 없어지기 때문**</spen>\n",
    "    + 선형 함수의 문제 == <spen style=\"color: rosybrown;\">**층을 아무리 깊게해도 '은닉층이 없는 네트워크'로 똑같은 기능을 구현할 수 있다.**</spen>\n",
    "        + ex ) 선형 함수인 $h(x) = cx$를 활성화 함수로 사용하는 3층 네트워크\n",
    "            + $y(x) = h(h(h(x))) ← y(x) = c * c * c * x$ 곱셈을 세번 수행한 식 $y(x) = ax$ <$a = c^3$>\n",
    "            + 선형 함수를 이용해서는 여러 층으로 구성하는 이점을 살릴 수 없음"
   ]
  },
  {
   "cell_type": "markdown",
   "metadata": {},
   "source": [
    "##### <br><br><span style=\"color: mediumaquamarine;\">**ReLU 함수**</spen>\n",
    "+ <spen style=\"color: gold;\">**ReLU ( Re ctified Linear Unit < 렐루 >) 함수**</spen> == 입력이 0 초과일 경우 그대로 출력, 입력이 0 이하일 경우 0을 출력하는 함수\n",
    "+ 신경망 분야에서 오래전부터 시그모이드 함수를 사용해왔으나 최근에는 렐루 함수를 주로 이용함"
   ]
  },
  {
   "cell_type": "markdown",
   "metadata": {},
   "source": [
    "<img src=\"../img/relu.png\" width=\"600\"></br>\n",
    "$$\n",
    "h(x) = \n",
    "\\begin{cases}\n",
    " x (x > 0)\\\\\\\\\n",
    " 0 (x \\leq 0)\n",
    "\\end{cases}\n",
    "$$"
   ]
  },
  {
   "cell_type": "code",
   "execution_count": 11,
   "metadata": {},
   "outputs": [],
   "source": [
    "def relu(x):\n",
    "    return np.maximum(0, x)"
   ]
  },
  {
   "cell_type": "markdown",
   "metadata": {},
   "source": [
    "+ ```maximum()``` == 두 입력 중 큰 값을 선택해 반환하는 함수"
   ]
  }
 ],
 "metadata": {
  "kernelspec": {
   "display_name": "school",
   "language": "python",
   "name": "python3"
  },
  "language_info": {
   "codemirror_mode": {
    "name": "ipython",
    "version": 3
   },
   "file_extension": ".py",
   "mimetype": "text/x-python",
   "name": "python",
   "nbconvert_exporter": "python",
   "pygments_lexer": "ipython3",
   "version": "3.12.2"
  }
 },
 "nbformat": 4,
 "nbformat_minor": 2
}
