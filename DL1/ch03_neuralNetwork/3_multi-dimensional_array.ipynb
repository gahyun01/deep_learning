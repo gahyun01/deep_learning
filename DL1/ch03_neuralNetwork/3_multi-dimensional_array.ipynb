{
 "cells": [
  {
   "cell_type": "markdown",
   "metadata": {},
   "source": [
    "# 3. 신경망\n",
    "* * *"
   ]
  },
  {
   "cell_type": "markdown",
   "metadata": {},
   "source": [
    "## 3.3 다차원 배열의 계산"
   ]
  },
  {
   "cell_type": "markdown",
   "metadata": {},
   "source": [
    "##### <br><br><span style=\"color: mediumaquamarine;\">**다차원 배열**</spen>\n",
    "+ <spen style=\"color: gold;\">**다차원 배열**</spen> == 숫자의 집합\n",
    "    + 숫자가 한 줄로 늘어선 것\n",
    "    + 직사각형으로 늘어놓은 것\n",
    "    + 3차원으로 늘어놓은 것\n",
    "    + ( 더 일반화한 ) N차원으로 나열하는 것"
   ]
  },
  {
   "cell_type": "code",
   "execution_count": 1,
   "metadata": {},
   "outputs": [
    {
     "name": "stdout",
     "output_type": "stream",
     "text": [
      "A =  [1 2 3 4]\n",
      "1\n",
      "(4,)\n",
      "4\n"
     ]
    }
   ],
   "source": [
    "import numpy as np\n",
    "\n",
    "A = np.array([1, 2, 3, 4])\n",
    "print(\"A = \", A)\n",
    "print(np.ndim(A)) # 배열의 차원 수\n",
    "print(A.shape) # 배열의 형상 ( 튜플로 반환함 : 다차원 배열일 때와 통일된 형태로 결과를 반환하기 위해 ) <- 원소의 개수\n",
    "print(A.shape[0])"
   ]
  },
  {
   "cell_type": "code",
   "execution_count": 2,
   "metadata": {},
   "outputs": [
    {
     "name": "stdout",
     "output_type": "stream",
     "text": [
      "[[1 2]\n",
      " [3 4]\n",
      " [5 6]]\n",
      "2\n",
      "(3, 2)\n"
     ]
    }
   ],
   "source": [
    "B = np.array([[1, 2], [3, 4], [5, 6]])\n",
    "print(B)\n",
    "print(np.ndim(B))\n",
    "print(B.shape)"
   ]
  },
  {
   "cell_type": "markdown",
   "metadata": {},
   "source": [
    "+ <spen style=\"color: gold;\">**2차원 배열**</spen> == 행렬 ( matrix ) ← 가로 == 행 ( row ), 세로 == 열 ( column )\n",
    "    + 처음 차원 원소 3개 ( 0번째 차원 )\n",
    "    + 다음 차원 원소 2개 ( 1번째 차원 )\n",
    "</br></br>\n",
    "<img src=\"../img/matrix.png\" width='300'>"
   ]
  },
  {
   "cell_type": "markdown",
   "metadata": {},
   "source": [
    "##### <br><br><span style=\"color: mediumaquamarine;\">**행렬의 곱**</spen>\n",
    "행렬의 곱 계산 방법  \n",
    "<img src=\"../img/matrix_multiplication.png\" width='1000'>"
   ]
  },
  {
   "cell_type": "markdown",
   "metadata": {},
   "source": [
    "+ 왼쪽 행렬의 행 ( 가로 ) 과 오른쪽 행렬의 열 ( 세로 ) 을 원소별로 곱하고 그 값들을 더해서 계산"
   ]
  },
  {
   "cell_type": "code",
   "execution_count": 3,
   "metadata": {},
   "outputs": [
    {
     "name": "stdout",
     "output_type": "stream",
     "text": [
      "(2, 2)\n",
      "(2, 2)\n",
      "[[19 22]\n",
      " [43 50]]\n"
     ]
    }
   ],
   "source": [
    "A = np.array([[1, 2], [3, 4]])\n",
    "print(A.shape)\n",
    "B = np.array([[5, 6], [7, 8]])\n",
    "print(B.shape)\n",
    "print(np.dot(A, B))"
   ]
  },
  {
   "cell_type": "markdown",
   "metadata": {},
   "source": [
    "+ A && B == 2 X 2 행렬\n",
    "+ ```np.dot()``` == 입력이 1차원 배열이면 벡터, 2차원 배열이면 행렬 곱을 계산\n",
    "    + ```np.dot(A, B)``` != ```np.dot(B, A)```"
   ]
  },
  {
   "cell_type": "code",
   "execution_count": 4,
   "metadata": {},
   "outputs": [
    {
     "name": "stdout",
     "output_type": "stream",
     "text": [
      "(2, 3)\n",
      "(3, 2)\n",
      "[[22 28]\n",
      " [49 64]]\n"
     ]
    }
   ],
   "source": [
    "A = np.array([[1, 2, 3], [4, 5, 6]])\n",
    "print(A.shape)\n",
    "B = np.array([[1, 2], [3, 4], [5, 6]])\n",
    "print(B.shape)\n",
    "print(np.dot(A, B))"
   ]
  },
  {
   "cell_type": "markdown",
   "metadata": {},
   "source": [
    "+ <spen style=\"color: palevioletred;\">**행렬의 형상 ( shape ) 주의**</spen>\n",
    "    + 행렬 A의 1번째 차원의 원소 수 ( 열 수 ) == 행렬 B의 0번째 차원의 원소 수 ( 행 수 )\n",
    "    + 다르면 행렬의 곱을 계산할 수 없음"
   ]
  },
  {
   "cell_type": "code",
   "execution_count": null,
   "metadata": {},
   "outputs": [
    {
     "name": "stdout",
     "output_type": "stream",
     "text": [
      "(2, 2)\n",
      "(2, 3)\n"
     ]
    },
    {
     "data": {
      "text/plain": [
       "'\\n---------------------------------------------------------------------------\\nValueError                                Traceback (most recent call last)\\nCell In[16], line 4\\n      2 print(C.shape)\\n      3 print(A.shape)\\n----> 4 print(np.dot(A, C)) # 행렬의 형상이 다르므로 오류 발생\\n\\nValueError: shapes (2,3) and (2,2) not aligned: 3 (dim 1) != 2 (dim 0)\\n'"
      ]
     },
     "execution_count": 5,
     "metadata": {},
     "output_type": "execute_result"
    }
   ],
   "source": [
    "C = np.array([[1, 2], [3, 4]])\n",
    "print(C.shape)\n",
    "print(A.shape)\n",
    "\n",
    "# print(np.dot(A, C)) # 행렬의 형상이 다르므로 오류 발생\n",
    "\"\"\"\n",
    "---------------------------------------------------------------------------\n",
    "ValueError                                Traceback (most recent call last)\n",
    "Cell In[16], line 4\n",
    "      2 print(C.shape)\n",
    "      3 print(A.shape)\n",
    "----> 4 print(np.dot(A, C)) # 행렬의 형상이 다르므로 오류 발생\n",
    "\n",
    "ValueError: shapes (2,3) and (2,2) not aligned: 3 (dim 1) != 2 (dim 0)\n",
    "\"\"\""
   ]
  },
  {
   "cell_type": "markdown",
   "metadata": {},
   "source": [
    "행렬 A의 1번째 차원의 원소 수 ( 열 수 ) != 행렬 B의 0번째 차원의 원소 수 ( 행 수 )"
   ]
  },
  {
   "cell_type": "markdown",
   "metadata": {},
   "source": [
    "3 X 2 행렬 A와 2 X 4 행렬 B를 곱해 3 X 4 행렬 C를 만드는 예  \n",
    "\n",
    "<img src=\"../img/matrix_shape1.png\" width=\"600\">\n",
    "\n",
    "+ 계산 결과인 행렬 C의 형상은 == ( 행렬 A의 행 수, B의 열 수 )\n",
    "\n",
    "</br>&nbsp;</br>\n",
    "2차원 행렬X1차원 배열일 때도 대응하는 차원의 원소 수를 일치시켜야 한다.  \n",
    "\n",
    "<img src=\"../img/matrix_shape2.png\" width=\"600\">"
   ]
  },
  {
   "cell_type": "code",
   "execution_count": 6,
   "metadata": {},
   "outputs": [
    {
     "name": "stdout",
     "output_type": "stream",
     "text": [
      "(3, 2)\n",
      "(2,)\n",
      "[23 53 83]\n"
     ]
    }
   ],
   "source": [
    "A = np.array([[1, 2], [3, 4], [5, 6]])\n",
    "print(A.shape)\n",
    "B = np.array([7, 8])\n",
    "print(B.shape)\n",
    "print(np.dot(A, B))"
   ]
  },
  {
   "cell_type": "markdown",
   "metadata": {},
   "source": [
    "##### <br><br><span style=\"color: mediumaquamarine;\">**신경망에서의 행렬 곱**</spen>"
   ]
  },
  {
   "cell_type": "markdown",
   "metadata": {},
   "source": [
    "<img src=\"../img/neural_network_matrix1.png\" width=\"800\">\n",
    "\n",
    "+ 위의 신경망은 편향과 활성화 함수를 생략하고 가중치만 가지고 있음\n",
    "+ X와 W의 대응하는 차원의 원소수가 같아야함"
   ]
  },
  {
   "cell_type": "code",
   "execution_count": 7,
   "metadata": {},
   "outputs": [
    {
     "name": "stdout",
     "output_type": "stream",
     "text": [
      "(2,)\n",
      "[[1 3 5]\n",
      " [2 4 6]]\n",
      "(2, 3)\n",
      "[ 5 11 17]\n"
     ]
    }
   ],
   "source": [
    "X = np.array([1, 2])\n",
    "print(X.shape)\n",
    "W = np.array([[1, 3, 5], [2, 4, 6]])\n",
    "print(W)\n",
    "print(W.shape)\n",
    "Y = np.dot(X, W)\n",
    "print(Y)"
   ]
  },
  {
   "cell_type": "markdown",
   "metadata": {},
   "source": [
    "+ 행렬의 곱으로 한꺼번에 계산해주는 기능 ( ```np.dot()``` ) 은 신경망을 구현할 때 매우 중요함"
   ]
  }
 ],
 "metadata": {
  "kernelspec": {
   "display_name": "school",
   "language": "python",
   "name": "python3"
  },
  "language_info": {
   "codemirror_mode": {
    "name": "ipython",
    "version": 3
   },
   "file_extension": ".py",
   "mimetype": "text/x-python",
   "name": "python",
   "nbconvert_exporter": "python",
   "pygments_lexer": "ipython3",
   "version": "3.12.2"
  }
 },
 "nbformat": 4,
 "nbformat_minor": 2
}
