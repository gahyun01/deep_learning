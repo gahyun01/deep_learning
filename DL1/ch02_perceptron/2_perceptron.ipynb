{
 "cells": [
  {
   "cell_type": "code",
   "execution_count": 1,
   "metadata": {},
   "outputs": [],
   "source": [
    "from IPython.display import Image"
   ]
  },
  {
   "cell_type": "markdown",
   "metadata": {},
   "source": [
    "# 2. 퍼셉트론\n",
    "* * *"
   ]
  },
  {
   "cell_type": "markdown",
   "metadata": {},
   "source": [
    "+ <spen style=\"color: gold;\">**퍼셉트론 ( perceptron )**</spen> == 프랑크 로젠블라트 ( Frank Rosenblatt ) 가 1957년에 고안한 알고리즘임\n",
    "+ 퍼셉트론은 신경망 ( 딥러닝 ) 의 기원이 되는 알고리즘임\n",
    "+ 퍼셉트론의 구조를 배우는 것 == 신경망과 딥러닝으로 나아가는 중요한 아이디어를 배우는 일\n",
    "</br></br></br></br></br>"
   ]
  },
  {
   "cell_type": "markdown",
   "metadata": {},
   "source": [
    "## 2.1 퍼셉트론이란?"
   ]
  },
  {
   "cell_type": "markdown",
   "metadata": {},
   "source": [
    "+ 다수의 신호를 입력으로 받아 하나의 신호를 출력함\n",
    "+ 신호 == 전류나 강물처럼 <spen style=\"color: rosybrown;\">**흐름**</spen>이 있는 것\n",
    "+ 신호가 흐름을 만들고 정보를 앞으로 전달함\n",
    "+ 퍼셉트론의 신호는 <spen style=\"color: rosybrown;\">**'흐른다 / 안흐른다 ( 1 || 0 )'**</spen>의 두 가지 값을 가질 수 있음"
   ]
  },
  {
   "cell_type": "markdown",
   "metadata": {},
   "source": [
    "입력이 2개인 퍼셉트론  \n",
    "\n",
    "<img src='../img/perceptron.png' width='300'>  \n",
    "\n",
    "◯ ( 원 ) == 뉴런 || 노드  "
   ]
  },
  {
   "cell_type": "markdown",
   "metadata": {},
   "source": [
    "+ 입력 신호가 뉴런에 보내질 때는 각각 고유한 가중치가 곱해짐\n",
    "+ 뉴런에서 보내온 신호의 총합이 정해진 한계 ( 임계값 $\\theta$ < theta > ) 를 넘어설 때만 1을 출력함 == '뉴런이 활성화한다'라 표현"
   ]
  },
  {
   "cell_type": "markdown",
   "metadata": {},
   "source": [
    "$$\n",
    "y = \n",
    "\\begin{cases}\n",
    " 0 (w_1x_1 + w_2x_2 \\leq \\theta)\\\\\\\\\n",
    " 1 (w_1x_1 + w_2x_2 > \\theta)\n",
    "\\end{cases}\n",
    "$$\n",
    "\n",
    "+ $x_1$ && $x_2$ == 입력 신호\n",
    "+ $y$ == 출력신호\n",
    "+ $w_1$ && $w_2$ == 가중치 ( $w$ == weight )"
   ]
  },
  {
   "cell_type": "markdown",
   "metadata": {},
   "source": [
    "+ 퍼셉트론은 복수의 입력 신호 각각에 고유한 가중치를 부여함\n",
    "+ 가중치는 각 신호가 결과에 주는 영향력을 조절하는 요소로 작용함\n",
    "+ <spen style=\"color: palevioletred;\">**가중치가 클수록 해당 신호가 그만큼 더 중요함**</spen>을 뜻함\n",
    "</br></br></br></br></br>"
   ]
  },
  {
   "cell_type": "markdown",
   "metadata": {},
   "source": [
    "## 2.2 단순한 논리 회로\n",
    "\n",
    "+ <spen style=\"color: gold;\">**진리표**</spen> == 입력 신호와 출력 신호의 대응표"
   ]
  },
  {
   "cell_type": "markdown",
   "metadata": {},
   "source": [
    "##### <br><br><span style=\"color: mediumaquamarine;\">**AND 게이트**</spen>\n",
    "+ 입력이 둘이고 출력이 하나"
   ]
  },
  {
   "cell_type": "markdown",
   "metadata": {},
   "source": [
    "AND 게이트의 진리표  \n",
    "| $x_1$ | $x_2$ | $y$ (AND) |\n",
    "|---|---|--------|\n",
    "| 0 | 0 | 0      |\n",
    "| 1 | 0 | 0      |\n",
    "| 0 | 1 | 0      |\n",
    "| 1 | 1 | 1      |"
   ]
  },
  {
   "cell_type": "markdown",
   "metadata": {},
   "source": [
    "##### <br><br><span style=\"color: mediumaquamarine;\">**NAND 게이트와 OR 게이트**</spen>"
   ]
  },
  {
   "cell_type": "markdown",
   "metadata": {},
   "source": [
    "+ NAND 게이트\n",
    "    + Not AND 의미\n",
    "    + AND 게이트의 출력을 뒤집은 것\n",
    "    + AND 게이트를 구현하는 매개변수의 부호를 모두 반전하면 NAND 게이트가 됨"
   ]
  },
  {
   "cell_type": "markdown",
   "metadata": {},
   "source": [
    "NAND 게이트의 진리표  \n",
    "| $x_1$ | $x_2$ | $y$ (NAND) |\n",
    "|---|---|--------|\n",
    "| 0 | 0 | 1      |\n",
    "| 1 | 0 | 1      |\n",
    "| 0 | 1 | 1      |\n",
    "| 1 | 1 | 0      |"
   ]
  },
  {
   "cell_type": "markdown",
   "metadata": {},
   "source": [
    "</br></br>\n",
    "+ OR 게이트\n",
    "    + 입력 신호 중 하나 이상이 1이면 출력이 1이 되는 논리 회로"
   ]
  },
  {
   "cell_type": "markdown",
   "metadata": {},
   "source": [
    "OR 게이트의 진리표  \n",
    "| $x_1$ | $x_2$ | $y$ (OR) |\n",
    "|---|---|--------|\n",
    "| 0 | 0 | 0      |\n",
    "| 1 | 0 | 1      |\n",
    "| 0 | 1 | 1      |\n",
    "| 1 | 1 | 1      |"
   ]
  },
  {
   "cell_type": "markdown",
   "metadata": {},
   "source": [
    "학습 == 적절한 매개변수 값을 정하는 작업\n",
    "+ 사람은 퍼셉트론의 구조 ( 모델 ) 를 고민하고 컴퓨터에 학습할 데이터를 주는 일을 함"
   ]
  },
  {
   "cell_type": "markdown",
   "metadata": {},
   "source": [
    "<spen style=\"color: gold;\">**정리**</spen>\n",
    "+ 퍼셉트론의 구조는 AND, NAND, OR 게이트 모두 똑같다\n",
    "+ 세 가지 게이트에서 다른 것은 매개변수 ( 가중치와 임계값 ) 의 값 뿐임\n",
    "+ 똑같은 구조의 퍼셉트론이 매개변수의 값만 적절히 조정하여 AND, NAND, OR로 변신하는 것임\n",
    "</br></br></br></br></br>"
   ]
  },
  {
   "cell_type": "markdown",
   "metadata": {},
   "source": [
    "## 2.3 퍼셉트론 구현하기"
   ]
  },
  {
   "cell_type": "markdown",
   "metadata": {},
   "source": [
    "##### <br><br><span style=\"color: mediumaquamarine;\">**간단한 구현부터**</spen>"
   ]
  },
  {
   "cell_type": "markdown",
   "metadata": {},
   "source": [
    "+ AND 게이트 구현\n",
    "+ 매개변수 $w_1$, $w_2$, theta는 함수 안에서 초기화\n",
    "+ 가중치를 곱한 입력의 총합이 임계값을 넘으면 1, 그 외에는 0을 반환"
   ]
  },
  {
   "cell_type": "code",
   "execution_count": 2,
   "metadata": {},
   "outputs": [
    {
     "name": "stdout",
     "output_type": "stream",
     "text": [
      "AND(0, 0) =  0\n",
      "AND(1, 0) =  0\n",
      "AND(0, 1) =  0\n",
      "AND(1, 1) =  1\n"
     ]
    }
   ],
   "source": [
    "def simpleAND(x1, x2):\n",
    "    w1, w2, theta = 0.5, 0.5, 0.7\n",
    "    tmp = x1*w1 + x2*w2\n",
    "    if tmp <= theta:\n",
    "        return 0\n",
    "    elif tmp > theta:\n",
    "        return 1\n",
    "    \n",
    "print(\"AND(0, 0) = \", simpleAND(0, 0))\n",
    "print(\"AND(1, 0) = \", simpleAND(1, 0))\n",
    "print(\"AND(0, 1) = \", simpleAND(0, 1))\n",
    "print(\"AND(1, 1) = \", simpleAND(1, 1))"
   ]
  },
  {
   "cell_type": "markdown",
   "metadata": {},
   "source": [
    "##### <br><br><span style=\"color: mediumaquamarine;\">**가중치와 편향 도입**</spen>\n",
    "+ $\\theta$를 $-b$로 치환\n",
    "+ <spen style=\"color: gold;\">**$b$**</spen> == 편향 ( bias )"
   ]
  },
  {
   "cell_type": "markdown",
   "metadata": {},
   "source": [
    "$$\n",
    "y = \n",
    "\\begin{cases}\n",
    " 0 (b + w_1x_1 + w_2x_2 \\leq 0)\\\\\\\\\n",
    " 1 (b + w_1x_1 + w_2x_2 > 0)\n",
    "\\end{cases}\n",
    "$$"
   ]
  },
  {
   "cell_type": "markdown",
   "metadata": {},
   "source": [
    "+ 입력 신호에 가중치를 곱한 값과 편향을 합하여 값이 0을 넘으면 1 출력, 그렇지 않으면 0출력"
   ]
  },
  {
   "cell_type": "code",
   "execution_count": 3,
   "metadata": {},
   "outputs": [
    {
     "name": "stdout",
     "output_type": "stream",
     "text": [
      "[0.  0.5]\n",
      "0.5\n",
      "-0.19999999999999996\n"
     ]
    }
   ],
   "source": [
    "import numpy as np\n",
    "\n",
    "x = np.array([0, 1]) # 입력\n",
    "w = np.array([0.5, 0.5]) # 가중치\n",
    "b = -0.7 # 편향\n",
    "print(w*x)\n",
    "print(np.sum(w*x)) # np.sum() 함수 == 입력한 배열에 담긴 모든 원소의 총합을 계산\n",
    "print(np.sum(w*x) + b)"
   ]
  },
  {
   "cell_type": "markdown",
   "metadata": {},
   "source": [
    "##### <br><br><span style=\"color: mediumaquamarine;\">**가중치와 편향 구현하기**</spen>\n",
    "+ <spen style=\"color: palevioletred;\">**가중치와 편향을 도입**</spen>한 AND 게이트"
   ]
  },
  {
   "cell_type": "code",
   "execution_count": 4,
   "metadata": {},
   "outputs": [
    {
     "name": "stdout",
     "output_type": "stream",
     "text": [
      "(0, 0) -> 0\n",
      "(1, 0) -> 0\n",
      "(0, 1) -> 0\n",
      "(1, 1) -> 1\n"
     ]
    }
   ],
   "source": [
    "import numpy as np\n",
    "\n",
    "def AND(x1, x2):\n",
    "    x = np.array([x1, x2])\n",
    "    w = np.array([0.5, 0.5])\n",
    "    b = -0.7\n",
    "    tmp = np.sum(w*x) + b\n",
    "    if tmp <= 0:\n",
    "        return 0\n",
    "    else:\n",
    "        return 1\n",
    "    \n",
    "for xs in [(0, 0), (1, 0), (0, 1), (1, 1)]:\n",
    "    y = AND(xs[0], xs[1])\n",
    "    print(str(xs) + \" -> \" + str(y))"
   ]
  },
  {
   "cell_type": "markdown",
   "metadata": {},
   "source": [
    "+ $w_1$ && $w_2$ == 각 입력 신호가 결과에 주는 영향력 ( 중요도 ) 을 조절하는 매개변수\n",
    "+ <spen style=\"color: gold;\">**편향 ( bias )**</spen> == 뉴런이 얼마나 쉽게 활성화 ( 결과로 1을 출력 ) 하느냐를 조정하는 매개변수\n",
    "    + 편향값은 뉴런이 얼마나 쉽게 활성화되는지를 결정함\n",
    "        + 입력 신호에 가중치를 곱한 값이 $b$를 초과하면 뉴런은 활성화함 ( 넘지 않으면 뉴런은 활성화하지 않음 )"
   ]
  },
  {
   "cell_type": "code",
   "execution_count": 5,
   "metadata": {},
   "outputs": [
    {
     "name": "stdout",
     "output_type": "stream",
     "text": [
      "(0, 0) -> 1\n",
      "(1, 0) -> 1\n",
      "(0, 1) -> 1\n",
      "(1, 1) -> 0\n"
     ]
    }
   ],
   "source": [
    "import numpy as np\n",
    "\n",
    "def NAND(x1, x2):\n",
    "    x = np.array([x1, x2])\n",
    "    w = np.array([-0.5, -0.5]) # AND와는 가중치(w와 b)만 다름\n",
    "    b = 0.7\n",
    "    tmp = np.sum(w*x) + b\n",
    "    if tmp <= 0:\n",
    "        return 0\n",
    "    else:\n",
    "        return 1\n",
    "    \n",
    "for xs in [(0, 0), (1, 0), (0, 1), (1, 1)]:\n",
    "    y = NAND(xs[0], xs[1])\n",
    "    print(str(xs) + \" -> \" + str(y))"
   ]
  },
  {
   "cell_type": "code",
   "execution_count": 6,
   "metadata": {},
   "outputs": [
    {
     "name": "stdout",
     "output_type": "stream",
     "text": [
      "(0, 0) -> 0\n",
      "(1, 0) -> 1\n",
      "(0, 1) -> 1\n",
      "(1, 1) -> 1\n"
     ]
    }
   ],
   "source": [
    "import numpy as np\n",
    "\n",
    "def OR(x1, x2):\n",
    "    x = np.array([x1, x2])\n",
    "    w = np.array([0.5, 0.5]) # AND와는 가중치(w와 b)만 다름\n",
    "    b = -0.2\n",
    "    tmp = np.sum(w*x) + b\n",
    "    if tmp <= 0:\n",
    "        return 0\n",
    "    else:\n",
    "        return 1\n",
    "    \n",
    "for xs in [(0, 0), (1, 0), (0, 1), (1, 1)]:\n",
    "    y = OR(xs[0], xs[1])\n",
    "    print(str(xs) + \" -> \" + str(y))"
   ]
  },
  {
   "cell_type": "markdown",
   "metadata": {},
   "source": [
    "+ AND는 더 어려운 조건에서 1을 출력해야 하고, OR은 더 쉽게 1을 출력해야 하므로 임계값이 다름"
   ]
  },
  {
   "cell_type": "markdown",
   "metadata": {},
   "source": [
    "## 2.4 퍼셉트론의 한계"
   ]
  },
  {
   "cell_type": "markdown",
   "metadata": {},
   "source": [
    "##### <br><br><span style=\"color: mediumaquamarine;\">**도전! XOR 게이트**</spen>\n",
    "+ XOR 게이트 == <spen style=\"color: rosybrown;\">**베타적 논리합**</spen>이라는 논리회로임 ( 베타적 == 자기 외에는 거부한다라는 의미 )"
   ]
  },
  {
   "cell_type": "markdown",
   "metadata": {},
   "source": [
    "XOR 게이트의 진리표  \n",
    "| $x_1$ | $x_2$ | $y$ (XOR) |\n",
    "|---|---|--------|\n",
    "| 0 | 0 | 0      |\n",
    "| 1 | 0 | 1      |\n",
    "| 0 | 1 | 1      |\n",
    "| 1 | 1 | 0      |\n",
    "\n",
    "+ 지금까지 본 퍼셉트론으로는 XOR 게이트를 구현할 수 없음  "
   ]
  },
  {
   "cell_type": "markdown",
   "metadata": {},
   "source": [
    "\n",
    "<spen style=\"color: palevioletred;\">**OR 게이트의 동적 시각화**</spen>  \n",
    "ex ) 가중치 매개변수가 ($b$, $w_1$, $w_2$) = (-0.5, 1.0, 1.0) 일때 OR의 진리표를 만족함\n",
    "$$\n",
    "y = \n",
    "\\begin{cases}\n",
    " 0 (-0.5 + x_1 + x_2 \\leq 0)\\\\\\\\\n",
    " 1 (-0.5 + x_1 + x_2 > 0)\n",
    "\\end{cases}\n",
    "$$\n",
    "+ 식을 시각화하면 아래와 같다. ( 퍼셉트론은 직선으로 나뉜 두 영역을 만듦. 직선으로 나뉜 한쪽 영역은 1을, 다른 한쪽은 0을 출력 )"
   ]
  },
  {
   "cell_type": "markdown",
   "metadata": {},
   "source": [
    "<spen style=\"color: palevioletred;\">**퍼셉트론의 시각화**</spen> : 회색 영역은 0을 출력하는 영역이며, 전체 영역은 OR 게이트의 성질을 만족한다.  \n",
    "\n",
    "<img src=\"../img/or_perceptron.png\" width=\"300\">"
   ]
  },
  {
   "cell_type": "markdown",
   "metadata": {},
   "source": [
    "+ OR 게이트는 ($x_1$, $x_2$) = (0, 0)일때 0 출력\n",
    "+ (0, 1), (1, 0), (1, 1)일 때 1 출력"
   ]
  },
  {
   "cell_type": "markdown",
   "metadata": {},
   "source": [
    "##### <br><br><span style=\"color: mediumaquamarine;\">**선형과 비선형**</spen>\n",
    "+ 직선이라는 제약을 없앤다면 가능함\n",
    "+ <spen style=\"color: gold;\">**선형 영역**</spen> == 직선의 영역\n",
    "+ <spen style=\"color: gold;\">**비선형 영역**</spen> == 곡선의 영역\n",
    "    + 선형, 비선형은 기계삭습 분야에서 자주 쓰이는 용어임"
   ]
  },
  {
   "cell_type": "markdown",
   "metadata": {},
   "source": [
    "<spen style=\"color: palevioletred;\">**XOR 게이트의 동적 시각화**</spen> ( 직선 하나로 나누기에는 한계가 있음 )  \n",
    "\n",
    "<img src=\"../img/xor_perceptron.png\" width=\"300\">  \n",
    "\n",
    "+ 퍼셉트론의 한계 == 단층 퍼셉트론 ( single-layer perceptron ) 으로는 XOR 게이트를 표현할 수 없다.\n",
    "+ 단층 퍼셉트론으로는 비선형 영역을 분리할 수 없다."
   ]
  },
  {
   "cell_type": "markdown",
   "metadata": {},
   "source": [
    "![](img/xor_perceptron.png)"
   ]
  },
  {
   "cell_type": "markdown",
   "metadata": {},
   "source": [
    "## 2.5 다층 퍼셉트론이 출동한다면\n",
    "+ '층을 쌓아' <spen style=\"color: gold;\">**다층 퍼셉트론 ( multi-layer perceptron )**</spen> 을 만들 수 있음\n",
    "+ 층을 하나 더 쌓아 XOR을 표현할 수 있음"
   ]
  },
  {
   "cell_type": "markdown",
   "metadata": {},
   "source": [
    "##### <br><br><span style=\"color: mediumaquamarine;\">**기존 게이트 조합하기**</spen>\n",
    "+ XOR 게이트를 만드는 방법은 다양함\n",
    "+ AND, NAND, OR 게이트를 조합하여 만들 수 있음"
   ]
  },
  {
   "cell_type": "markdown",
   "metadata": {},
   "source": [
    "AND, NAND, OR 게이트 기호  \n",
    "\n",
    "<img src=\"../img/and_nand_or.png\" width=\"600\">"
   ]
  },
  {
   "cell_type": "markdown",
   "metadata": {},
   "source": [
    "+ $x_1$ 과 $x_2$는 NAND와 OR 게이트를 구현할 수 있음\n",
    "+ NAND와 OR의 출력이 AND 게이트의 입력으로 이어짐"
   ]
  },
  {
   "cell_type": "markdown",
   "metadata": {},
   "source": [
    "<spen style=\"color: palevioletred;\">**XOR 게이트**</spen>  \n",
    "\n",
    "<img src=\"../img/xor.png\" width=\"600\">"
   ]
  },
  {
   "cell_type": "markdown",
   "metadata": {},
   "source": [
    "+ NAND의 출력을 $s_1$, OR의 출력을 $s_2$로 해서 진리표를 만들면 아래와같이 만들어짐\n",
    "+ $x_1$, $x_2$, $y$에 주목하면 XOR의 출력과 같음"
   ]
  },
  {
   "cell_type": "markdown",
   "metadata": {},
   "source": [
    "| $x_1$ | $x_2$ | $s_1$ (NAND) | $s_2$ (OR) | $y$ (XOR) |\n",
    "|---|---|--------------|------------|-----------|\n",
    "| 0 | 0 | 1            | 0          | 0         |\n",
    "| 0 | 1 | 1            | 1          | 1         |\n",
    "| 1 | 0 | 1            | 1          | 1         |\n",
    "| 1 | 1 | 0            | 1          | 0         |"
   ]
  },
  {
   "cell_type": "code",
   "execution_count": 7,
   "metadata": {},
   "outputs": [
    {
     "name": "stdout",
     "output_type": "stream",
     "text": [
      "(0, 0) -> 0\n",
      "(1, 0) -> 1\n",
      "(0, 1) -> 1\n",
      "(1, 1) -> 0\n"
     ]
    }
   ],
   "source": [
    "def XOR(x1, x2):\n",
    "    s1 = NAND(x1, x2)\n",
    "    s2 = OR(x1, x2)\n",
    "    y = AND(s1, s2)\n",
    "    return y\n",
    "\n",
    "for xs in [(0, 0), (1, 0), (0, 1), (1, 1)]:\n",
    "    y = XOR(xs[0], xs[1])\n",
    "    print(str(xs) + \" -> \" + str(y))"
   ]
  },
  {
   "cell_type": "markdown",
   "metadata": {},
   "source": [
    "뉴런을 이용한 XOR의 퍼셉트론 ( 다층 구조 네트워크 )  \n",
    "\n",
    "<img src=\"../img/xor_neuron_perceptron.png\" width=\"600\">"
   ]
  },
  {
   "cell_type": "markdown",
   "metadata": {},
   "source": [
    "+ 3층으로 이루어진 퍼셉트론에서 가중치를 갖는 층은 2개임 ( 0층과 1층 사이, 1층과 2층사이 )\n",
    "+ XOR 2층 퍼셉트론 동작\n",
    "    1. 0층의 두 뉴런이 입력 신호를 받아 1층의 뉴런으로 신호를 보냄\n",
    "    2. 1층의 뉴런이 2층의 뉴런으로 신호를 보내고, 2층의 뉴런은 y를 출력함\n",
    "+ XOR 게이트 퍼셉트론에서는 작업자들 사이에서 <spen style=\"color: rosybrown;\">**부품을 전달**</spen>하는 일이 이뤄짐  \n",
    "<spen style=\"color: palevioletred;\">**단층 퍼셉트론으로는 표현하지 못하는 것을 층을 하나 늘려 구현할 수 있다.**</spen>"
   ]
  },
  {
   "cell_type": "markdown",
   "metadata": {},
   "source": [
    "## 2.6 NAND에서 컴퓨터까지"
   ]
  },
  {
   "cell_type": "markdown",
   "metadata": {},
   "source": [
    "+ 다층 퍼셉트론은 지금까지 보아온 회로보다 복잡한 회로를 만들 수 있음\n",
    "+ NAND 게이트의 조합만으로 컴퓨터를 만든다.\n",
    "    + 다층 퍼셉트론은 컴퓨터도 만들 정도로 복잡한 표현을 해냄\n",
    "    + 이론상 2층 퍼셉트론이면 컴퓨터를 만들 수 있다. ( 비선형인 시그모이드 함수를 활성화 함수로 이용하면 임의의 함수를 표현할 수 있음 )\n",
    "+ AND와 OR게이트 → 반가산기와 전가산기 → 산술 논리 연산 장치 ( ALU ) → CPU"
   ]
  }
 ],
 "metadata": {
  "kernelspec": {
   "display_name": "school",
   "language": "python",
   "name": "python3"
  },
  "language_info": {
   "codemirror_mode": {
    "name": "ipython",
    "version": 3
   },
   "file_extension": ".py",
   "mimetype": "text/x-python",
   "name": "python",
   "nbconvert_exporter": "python",
   "pygments_lexer": "ipython3",
   "version": "3.12.2"
  }
 },
 "nbformat": 4,
 "nbformat_minor": 2
}
